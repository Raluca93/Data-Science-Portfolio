{
  "nbformat": 4,
  "nbformat_minor": 0,
  "metadata": {
    "colab": {
      "provenance": [],
      "collapsed_sections": []
    },
    "kernelspec": {
      "name": "python3",
      "display_name": "Python 3"
    },
    "language_info": {
      "name": "python"
    }
  },
  "cells": [
    {
      "cell_type": "code",
      "execution_count": 11,
      "metadata": {
        "id": "n6FxxVvuM60l"
      },
      "outputs": [],
      "source": [
        "import numpy as np\n",
        "import pandas as pd\n",
        "import string\n",
        "import nltk\n",
        "import re\n",
        "from nltk.tokenize import word_tokenize\n",
        "from nltk.corpus import stopwords\n",
        "from nltk.stem import PorterStemmer\n",
        "from sklearn.model_selection import train_test_split\n",
        "from sklearn.naive_bayes import GaussianNB\n",
        "from sklearn import metrics\n",
        "from sklearn.feature_extraction.text import CountVectorizer"
      ]
    },
    {
      "cell_type": "code",
      "source": [
        "data = pd.read_csv(\"Review.csv\")"
      ],
      "metadata": {
        "id": "FLow13i7NZvj"
      },
      "execution_count": 12,
      "outputs": []
    },
    {
      "cell_type": "code",
      "source": [
        "data.head()"
      ],
      "metadata": {
        "colab": {
          "base_uri": "https://localhost:8080/",
          "height": 206
        },
        "id": "Fd-JSp6AO6Od",
        "outputId": "d65f9d56-a079-4c87-be75-bfe83eaed826"
      },
      "execution_count": 13,
      "outputs": [
        {
          "output_type": "execute_result",
          "data": {
            "text/plain": [
              "  sentiment                                             review\n",
              "0  Negative  I had no background knowledge of this movie be...\n",
              "1  Negative  I am a huge Jane Austen fan and I ordered the ...\n",
              "2  Negative  Nothing to say but Wow! Has anyone actually ha...\n",
              "3  Negative  i like Jane Austin novels. I love Pride and Pr...\n",
              "4  Negative  In this day and age of incredible special movi..."
            ],
            "text/html": [
              "\n",
              "  <div id=\"df-7d616b4d-cc3f-40b7-a9e2-b77bd2d3fb68\">\n",
              "    <div class=\"colab-df-container\">\n",
              "      <div>\n",
              "<style scoped>\n",
              "    .dataframe tbody tr th:only-of-type {\n",
              "        vertical-align: middle;\n",
              "    }\n",
              "\n",
              "    .dataframe tbody tr th {\n",
              "        vertical-align: top;\n",
              "    }\n",
              "\n",
              "    .dataframe thead th {\n",
              "        text-align: right;\n",
              "    }\n",
              "</style>\n",
              "<table border=\"1\" class=\"dataframe\">\n",
              "  <thead>\n",
              "    <tr style=\"text-align: right;\">\n",
              "      <th></th>\n",
              "      <th>sentiment</th>\n",
              "      <th>review</th>\n",
              "    </tr>\n",
              "  </thead>\n",
              "  <tbody>\n",
              "    <tr>\n",
              "      <th>0</th>\n",
              "      <td>Negative</td>\n",
              "      <td>I had no background knowledge of this movie be...</td>\n",
              "    </tr>\n",
              "    <tr>\n",
              "      <th>1</th>\n",
              "      <td>Negative</td>\n",
              "      <td>I am a huge Jane Austen fan and I ordered the ...</td>\n",
              "    </tr>\n",
              "    <tr>\n",
              "      <th>2</th>\n",
              "      <td>Negative</td>\n",
              "      <td>Nothing to say but Wow! Has anyone actually ha...</td>\n",
              "    </tr>\n",
              "    <tr>\n",
              "      <th>3</th>\n",
              "      <td>Negative</td>\n",
              "      <td>i like Jane Austin novels. I love Pride and Pr...</td>\n",
              "    </tr>\n",
              "    <tr>\n",
              "      <th>4</th>\n",
              "      <td>Negative</td>\n",
              "      <td>In this day and age of incredible special movi...</td>\n",
              "    </tr>\n",
              "  </tbody>\n",
              "</table>\n",
              "</div>\n",
              "      <button class=\"colab-df-convert\" onclick=\"convertToInteractive('df-7d616b4d-cc3f-40b7-a9e2-b77bd2d3fb68')\"\n",
              "              title=\"Convert this dataframe to an interactive table.\"\n",
              "              style=\"display:none;\">\n",
              "        \n",
              "  <svg xmlns=\"http://www.w3.org/2000/svg\" height=\"24px\"viewBox=\"0 0 24 24\"\n",
              "       width=\"24px\">\n",
              "    <path d=\"M0 0h24v24H0V0z\" fill=\"none\"/>\n",
              "    <path d=\"M18.56 5.44l.94 2.06.94-2.06 2.06-.94-2.06-.94-.94-2.06-.94 2.06-2.06.94zm-11 1L8.5 8.5l.94-2.06 2.06-.94-2.06-.94L8.5 2.5l-.94 2.06-2.06.94zm10 10l.94 2.06.94-2.06 2.06-.94-2.06-.94-.94-2.06-.94 2.06-2.06.94z\"/><path d=\"M17.41 7.96l-1.37-1.37c-.4-.4-.92-.59-1.43-.59-.52 0-1.04.2-1.43.59L10.3 9.45l-7.72 7.72c-.78.78-.78 2.05 0 2.83L4 21.41c.39.39.9.59 1.41.59.51 0 1.02-.2 1.41-.59l7.78-7.78 2.81-2.81c.8-.78.8-2.07 0-2.86zM5.41 20L4 18.59l7.72-7.72 1.47 1.35L5.41 20z\"/>\n",
              "  </svg>\n",
              "      </button>\n",
              "      \n",
              "  <style>\n",
              "    .colab-df-container {\n",
              "      display:flex;\n",
              "      flex-wrap:wrap;\n",
              "      gap: 12px;\n",
              "    }\n",
              "\n",
              "    .colab-df-convert {\n",
              "      background-color: #E8F0FE;\n",
              "      border: none;\n",
              "      border-radius: 50%;\n",
              "      cursor: pointer;\n",
              "      display: none;\n",
              "      fill: #1967D2;\n",
              "      height: 32px;\n",
              "      padding: 0 0 0 0;\n",
              "      width: 32px;\n",
              "    }\n",
              "\n",
              "    .colab-df-convert:hover {\n",
              "      background-color: #E2EBFA;\n",
              "      box-shadow: 0px 1px 2px rgba(60, 64, 67, 0.3), 0px 1px 3px 1px rgba(60, 64, 67, 0.15);\n",
              "      fill: #174EA6;\n",
              "    }\n",
              "\n",
              "    [theme=dark] .colab-df-convert {\n",
              "      background-color: #3B4455;\n",
              "      fill: #D2E3FC;\n",
              "    }\n",
              "\n",
              "    [theme=dark] .colab-df-convert:hover {\n",
              "      background-color: #434B5C;\n",
              "      box-shadow: 0px 1px 3px 1px rgba(0, 0, 0, 0.15);\n",
              "      filter: drop-shadow(0px 1px 2px rgba(0, 0, 0, 0.3));\n",
              "      fill: #FFFFFF;\n",
              "    }\n",
              "  </style>\n",
              "\n",
              "      <script>\n",
              "        const buttonEl =\n",
              "          document.querySelector('#df-7d616b4d-cc3f-40b7-a9e2-b77bd2d3fb68 button.colab-df-convert');\n",
              "        buttonEl.style.display =\n",
              "          google.colab.kernel.accessAllowed ? 'block' : 'none';\n",
              "\n",
              "        async function convertToInteractive(key) {\n",
              "          const element = document.querySelector('#df-7d616b4d-cc3f-40b7-a9e2-b77bd2d3fb68');\n",
              "          const dataTable =\n",
              "            await google.colab.kernel.invokeFunction('convertToInteractive',\n",
              "                                                     [key], {});\n",
              "          if (!dataTable) return;\n",
              "\n",
              "          const docLinkHtml = 'Like what you see? Visit the ' +\n",
              "            '<a target=\"_blank\" href=https://colab.research.google.com/notebooks/data_table.ipynb>data table notebook</a>'\n",
              "            + ' to learn more about interactive tables.';\n",
              "          element.innerHTML = '';\n",
              "          dataTable['output_type'] = 'display_data';\n",
              "          await google.colab.output.renderOutput(dataTable, element);\n",
              "          const docLink = document.createElement('div');\n",
              "          docLink.innerHTML = docLinkHtml;\n",
              "          element.appendChild(docLink);\n",
              "        }\n",
              "      </script>\n",
              "    </div>\n",
              "  </div>\n",
              "  "
            ]
          },
          "metadata": {},
          "execution_count": 13
        }
      ]
    },
    {
      "cell_type": "code",
      "source": [
        "data.sentiment = data.sentiment.apply(lambda x: 1 if x == 'Positive' else 0)"
      ],
      "metadata": {
        "id": "QQBU_veEZbZf"
      },
      "execution_count": 14,
      "outputs": []
    },
    {
      "cell_type": "code",
      "source": [
        "nltk.download('punkt')\n",
        "nltk.download('stopwords')\n",
        "def clean_text(df):\n",
        "    all_reviews = list()\n",
        "    lines = data.review.values.tolist()\n",
        "    for text in lines:\n",
        "        text = text.lower()\n",
        "        text = re.sub(r\"[,.\\\"!@#$%^&*(){}?/;`~:<>+=-]\", \"\", text)\n",
        "        tokens = word_tokenize(text)\n",
        "        table = str.maketrans('', '', string.punctuation)\n",
        "        stripped = [w.translate(table) for w in tokens]\n",
        "        words = [word for word in stripped if word.isalpha()]\n",
        "        stop_words = set(stopwords.words(\"english\"))\n",
        "        stop_words.discard(\"not\")\n",
        "        stemmer = PorterStemmer()\n",
        "        words = [stemmer.stem(w) for w in words if w not in stop_words]\n",
        "        words = ' '.join(words)\n",
        "        all_reviews.append(words)\n",
        "    return all_reviews\n",
        "\n",
        "all_reviews = clean_text(data)\n",
        "all_reviews[0:10]"
      ],
      "metadata": {
        "colab": {
          "base_uri": "https://localhost:8080/"
        },
        "id": "Fzj2HvfmRyC1",
        "outputId": "4f42a4fa-39b2-467f-ee56-1596c677b246"
      },
      "execution_count": 15,
      "outputs": [
        {
          "output_type": "stream",
          "name": "stderr",
          "text": [
            "[nltk_data] Downloading package punkt to /root/nltk_data...\n",
            "[nltk_data]   Package punkt is already up-to-date!\n",
            "[nltk_data] Downloading package stopwords to /root/nltk_data...\n",
            "[nltk_data]   Package stopwords is already up-to-date!\n"
          ]
        },
        {
          "output_type": "execute_result",
          "data": {
            "text/plain": [
              "['background knowledg movi bought sound cool want see realli kickbutt vike movi awhil ala film not look hope best instead deliv bore nordic soapopera seem drag long despit minut run time film premis intrigu enough vike warlord defi god odin enrag curs warlord son name barek death rebirth berserk barek guy forc live enrag insan violent lifetim lifetim movi film compet enough rich cinematographi quasigood perform actor found bore question dribbl would end filmmak chanc make someth rather entertain semiuniqu drop ball perhap could improv cheap exploit tactic thrown gratuit nuditi lot gore mean talk berserk nt vike suppos bad enough rape pillag nt berserk suppos even extrem unless fan young restless etc fact insan berserk like self tortur probabl steer clear drab piec celluloid',\n",
              " 'huge jane austen fan order movi amazonuk could see without wait forev come us realli save money ann run wentworth whole point ann elliot charact quiet refin not impuls vulgar mari suffer stroke someth speech nt normal walk normal chemistri two main charact made whole romanc complet unbeliev final scene even salli hawkin wear dress amanda root wore letter scene cloth not make movi opinion nt watch version even though flaw stay pretti close book book nt even think read kind like cliff note movi persuas hit high point without explain anyth',\n",
              " 'noth say wow anyon actual somebodi sneak open field well happen time movieclearli director favorit scare tactic one open scene smooth talkinghot shot produc ride back seat camera man could sit front film shortli arriv field contest show although clearli latest afternoon convinc sun set minut minut boobless trash privileg flashback clown histori see previou victim watch movi check ladi chest rib go way neck flat disgust horror movi action occur night without night vision camera chao forc happen day night shot make movi look like stolen blair witch project random shot director backyard movi somewhat redeem end matrix like shoot clown rewound watch laugh hyster definit rent movi ever snuck open field sign answer',\n",
              " 'like jane austin novel love pride prejudic sens sensibl book movi half way mansfield park could nt stand emma gave book chapter end movi could nt care less emma nt seem chang mayb paltrow act excel lack interest movi dunno costum nice danc clumsi compar pride prejudic danc colin firth jennif ehl gave basic fact knightli bloodi gorgeou although rather patchi perform ewan mcgregor like sing',\n",
              " 'day age incred special movi effect one sore disappoint actor seem stiff uninspir dialogu western not common fare hollywood much day movi like silverado prove somebodi still know make good one consid hard conceiv anyon would go expens releas much less creat weak film one love look good western keep look',\n",
              " 'becki harri play femal shopper whose misfortun store wrong time obvious purpos film suppli reason wear remot control miss harri seem fifti older first come scene red hair thug done becom appar aarp queen not finest asset ever display celluloid want someon clue absolut breathtak opinion liter wore vh copi captur charm would like know movi avail dvd rest movi realli not worthi mention hope see someth fairli convinc intellig howev disappoint count god bless becki harri',\n",
              " 'watch truth love doubl entendr star like plug white nois manufactur water sound help sleep put dvd slot noth els left store shelv need distract hectic day work purpos british romant comedi bit stori rather simpl one wife alic jennif love hewitt marri increasingli distant husband sam jimi mistri put love life hold due burden busi law practic partner archi dougray scott fond sam alic longtim attract alic goe beyond friendship alic pal sister felic kate mile free love advoc encourag alic affair valentin day drink bing sister alic mail card sam signedanonym test see sam respond test fidel time archi mail radish seed packet alic inscrib suggest love not ex post facto regret sam fact spend time lover katya branka katic inde cheat alic alic arrang assign sam via email phone call plan meet sam disguis asanonym test fidel entir cast charact get caught silli charad end prove real love must base truth result variou pair surpris sort fluffi script british comedi work qualiti write tight qualiti act perhap director john hay elect cast british actress alic instead past phoni accent jennif love hewitt result may improv end stori peter bloor bounc mildli humor pathet messag one terribl distract music score consist loud cover dialogu intrus nice scene london moment passabl humor end littl film truli best util background musicwhit nois gradi harp',\n",
              " 'pain protract maudlin predict drama twentyfifth sidney lumet film garbo talk get file precipit low qualiti end quest film document harri young work man name gilbert ron silver son estel roll ann bancroft eccentr feisti obsess fan greta garbo estel becom afflict brain tumor son decid go obsess quest track greta garbo bring mother ann bancroft fullon chewthesceneri auntiemam mode kind feisti ol gal film love mouth peopl stand ideal end jail time stand outsid film obviou artifici construct everi scene yukyuk lame everi note strike fals rest charact equal onedimension tremend lessinterest ron silver flat attempt love triangl telegraph anyth els film date affluent lisa rolf carri fisher becom smitten oddbal cowork jane mortim catherin hick call everi scene three scene happen problem onedimension charact surviv posit intrigu captiv stori simpli noth film pace glacial resplend extran materi strengthen absolut noth film begin follow linear plot plod uninterest plenti guest star speak includ harvey fierstein gay new yorker imagin yet anoth highli inessenti scene late film attempt make halfwaydec statement natur idolatri role live time none charact exist real peopl film bore submiss function case fartoolittl fartool film twentyfifth lumetdirect film make easili mostview director outsid coupl egregi miss stranger among us anyon nt plumb pain uninterest depth garbo talk grade cc lumet film',\n",
              " 'let honest film school project made without budget real actor passabl interest film someth releas dvd innoc viewer poorli produc product would idli chang channel happen catch film accident would probabl arrest eye attent person bought dvd impress would get proper cinemat product ie film feel deepli disappoint videotap tv play someth along line old sixti serial without certain charm asid lead man mr redfield also director actor seem either chap campu bit old actual member director household appear camera without help not act couch also makeup artist hairdress bonnet outgrown perman bang top hat mullet long way creat shot use motionless mount camera small bare studio sometim use blue screen outdoor background synthes gener uninspir score lame period inspir romant karaok insult viewer ear one occas film attempt dreamlik wherea fact mere conceptionless collag shot made edit believ standard nt high start interest dialog everi overal pretti lame twodimension product one way flash geniu either director member crew artsi film attempt look mr redfield much better job actor director',\n",
              " 'terribl movi everyon said made laugh cameo appear scott mcneali give award one murder programm front wall sun logo mcneali ceo sun microsystem compani practic defin hatr microsoft instrument file antitrust complaint microsoft silli enough think bad movi would add fuel fire public record see sun involv clearli maker movi know scott mcneali interest mysteri']"
            ]
          },
          "metadata": {},
          "execution_count": 15
        }
      ]
    },
    {
      "cell_type": "code",
      "source": [
        "CV = CountVectorizer(min_df = 3)\n",
        "X = CV.fit_transform(all_reviews).toarray()\n",
        "y = data['sentiment']"
      ],
      "metadata": {
        "id": "0G7YGlQQSqTV"
      },
      "execution_count": 16,
      "outputs": []
    },
    {
      "cell_type": "code",
      "source": [
        "print(np.shape(X))\n",
        "print(y.shape)"
      ],
      "metadata": {
        "colab": {
          "base_uri": "https://localhost:8080/"
        },
        "id": "hyhmccOEUvld",
        "outputId": "1a825812-2668-4f5c-f908-6b14a5125fd5"
      },
      "execution_count": 17,
      "outputs": [
        {
          "output_type": "stream",
          "name": "stdout",
          "text": [
            "(10000, 16439)\n",
            "(10000,)\n"
          ]
        }
      ]
    },
    {
      "cell_type": "code",
      "source": [
        "X_train, X_test, y_train, y_test = train_test_split(X, y, test_size= 0.2, random_state = 0)"
      ],
      "metadata": {
        "id": "Hc1F-sK3UbPu"
      },
      "execution_count": 18,
      "outputs": []
    },
    {
      "cell_type": "code",
      "source": [
        "model = GaussianNB()\n",
        "model.fit(X_train, y_train)\n",
        "y_pred = model.predict(X_test)"
      ],
      "metadata": {
        "id": "jORFuYFpU7ZV"
      },
      "execution_count": 19,
      "outputs": []
    },
    {
      "cell_type": "code",
      "source": [
        "print('Accuracy score: ', metrics.accuracy_score(y_test, y_pred))\n",
        "print('f1_score: ', metrics.f1_score(y_test, y_pred))\n",
        "print('Precision score: ', metrics.precision_score(y_test, y_pred))"
      ],
      "metadata": {
        "colab": {
          "base_uri": "https://localhost:8080/"
        },
        "id": "h-WGB6w1VCCL",
        "outputId": "00cb13a9-193d-460a-8afb-dbd9211e6563"
      },
      "execution_count": 20,
      "outputs": [
        {
          "output_type": "stream",
          "name": "stdout",
          "text": [
            "Accuracy score:  0.659\n",
            "f1_score:  0.6125\n",
            "Precision score:  0.7082785808147175\n"
          ]
        }
      ]
    }
  ]
}