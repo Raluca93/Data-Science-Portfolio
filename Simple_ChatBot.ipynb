{
  "nbformat": 4,
  "nbformat_minor": 0,
  "metadata": {
    "colab": {
      "provenance": []
    },
    "kernelspec": {
      "name": "python3",
      "display_name": "Python 3"
    },
    "language_info": {
      "name": "python"
    }
  },
  "cells": [
    {
      "cell_type": "code",
      "execution_count": 1,
      "metadata": {
        "id": "YnZFm2IDkRmz"
      },
      "outputs": [],
      "source": [
        "import random"
      ]
    },
    {
      "cell_type": "code",
      "source": [
        "name = 'Bot'\n",
        "weather = 'rainy'\n",
        "mood = 'good'\n",
        "responses = {\n",
        "    \"what's your name?\" : [\n",
        "        \"They call me {0}\" .format(name),\n",
        "        \"I go by {0}\" .format(name),\n",
        "        \"You can call me {0}\" .format(name),\n",
        "        \"My name is {0}\" .format(name)\n",
        "    ], \n",
        "    \"how's the weather today?\" : [\n",
        "        \"The weater is {0}\".format(weather),\n",
        "        \"It's {0} today\" .format(weather)\n",
        "    ],\n",
        "    \"how are you today?\" : [\n",
        "        \"I'm {0}, thank you!\".format(mood),\n",
        "        \"I'm {0}! How are you?\" .format(mood),\n",
        "        \"I'm feeling {0}\".format(mood)\n",
        "    ],\n",
        "    \"\" : [\n",
        "        \"Hey! Are you there?\",\n",
        "        \"What do you mean?\"\n",
        "    ],\n",
        "\n",
        "    \"goodbye\" : [\"See you later!\", \"Goodbye!\"],\n",
        "\n",
        "    \"default\" : [\"Hope that I was useful\"]\n",
        "\n",
        "}"
      ],
      "metadata": {
        "id": "x41jskp2kVS3"
      },
      "execution_count": 2,
      "outputs": []
    },
    {
      "cell_type": "code",
      "source": [
        "def responding(message):\n",
        "  if message in responses:\n",
        "    return random.choice(responses[message])\n",
        "  else:\n",
        "    return random.choice(responses[\"default\"])  "
      ],
      "metadata": {
        "id": "Zhie3ONLkVdI"
      },
      "execution_count": 3,
      "outputs": []
    },
    {
      "cell_type": "code",
      "source": [
        "def correct_text(message):\n",
        "  if \"name\" in message:\n",
        "    return \"what's your name?\"\n",
        "  elif \"weather\" in message:\n",
        "    return \"how's the weather today?\"\n",
        "  elif \"how are\" in message:\n",
        "    return \"how are you today?\"\n",
        "  elif \"bye\" in message:\n",
        "    return \"goodbye\"\n",
        "  elif \"friends\" in message:\n",
        "    return \"\"  \n",
        "  elif \"stop\" or \"exit\" in message:\n",
        "    return \"default\"   \n",
        "  else:\n",
        "    return \"\"      "
      ],
      "metadata": {
        "id": "jKSoUyFdmhxB"
      },
      "execution_count": 4,
      "outputs": []
    },
    {
      "cell_type": "code",
      "source": [
        "def send_message(message, original):\n",
        "  print('You: ', original)\n",
        "  response = responding(message)\n",
        "  print('Bot: ', response)"
      ],
      "metadata": {
        "id": "MDEraHN9nG-3"
      },
      "execution_count": 5,
      "outputs": []
    },
    {
      "cell_type": "code",
      "source": [
        "while 1:\n",
        "  user_input = input()\n",
        "  original_message = user_input\n",
        "  user_input = user_input.lower()\n",
        "  text = correct_text(user_input)\n",
        "  send_message(text, original_message)\n",
        "  if user_input == \"exit\" or user_input == \"stop\":\n",
        "    break"
      ],
      "metadata": {
        "colab": {
          "base_uri": "https://localhost:8080/"
        },
        "id": "k3c_GPyznfnl",
        "outputId": "dfa44a94-6c86-4abc-f14b-a292d79ef3a8"
      },
      "execution_count": 6,
      "outputs": [
        {
          "output_type": "stream",
          "name": "stdout",
          "text": [
            "How are you today my friend?\n",
            "You:  How are you today my friend?\n",
            "Bot:  I'm good, thank you!\n",
            "Is the weather nice today?\n",
            "You:  Is the weather nice today?\n",
            "Bot:  The weater is rainy\n",
            "Can you tell me your name?\n",
            "You:  Can you tell me your name?\n",
            "Bot:  My name is Bot\n",
            "Can we be friends?\n",
            "You:  Can we be friends?\n",
            "Bot:  Hey! Are you there?\n",
            "I have to go now, bye!\n",
            "You:  I have to go now, bye!\n",
            "Bot:  Goodbye!\n",
            "stop\n",
            "You:  stop\n",
            "Bot:  Hope that I was useful\n"
          ]
        }
      ]
    }
  ]
}